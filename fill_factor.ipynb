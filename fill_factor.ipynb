{
 "cells": [
  {
   "cell_type": "code",
   "execution_count": 1,
   "id": "518dd8d8-0cb6-4232-9730-165549a5652f",
   "metadata": {},
   "outputs": [
    {
     "ename": "ModuleNotFoundError",
     "evalue": "No module named 'pyPLUTO'",
     "output_type": "error",
     "traceback": [
      "\u001b[0;31m---------------------------------------------------------------------------\u001b[0m",
      "\u001b[0;31mModuleNotFoundError\u001b[0m                       Traceback (most recent call last)",
      "Cell \u001b[0;32mIn[1], line 9\u001b[0m\n\u001b[1;32m      7\u001b[0m \u001b[38;5;28;01mfrom\u001b[39;00m \u001b[38;5;21;01mmatplotlib\u001b[39;00m \u001b[38;5;28;01mimport\u001b[39;00m colors\n\u001b[1;32m      8\u001b[0m \u001b[38;5;28;01mfrom\u001b[39;00m \u001b[38;5;21;01mmatplotlib\u001b[39;00m \u001b[38;5;28;01mimport\u001b[39;00m pyplot \u001b[38;5;28;01mas\u001b[39;00m plt\n\u001b[0;32m----> 9\u001b[0m \u001b[38;5;28;01mimport\u001b[39;00m \u001b[38;5;21;01mpyPLUTO\u001b[39;00m \u001b[38;5;28;01mas\u001b[39;00m \u001b[38;5;21;01mpypl\u001b[39;00m\n\u001b[1;32m     10\u001b[0m \u001b[38;5;28;01mimport\u001b[39;00m \u001b[38;5;21;01mpyPLUTO\u001b[39;00m\u001b[38;5;21;01m.\u001b[39;00m\u001b[38;5;21;01mpload\u001b[39;00m \u001b[38;5;28;01mas\u001b[39;00m \u001b[38;5;21;01mpp\u001b[39;00m\n\u001b[1;32m     11\u001b[0m \u001b[38;5;28;01mimport\u001b[39;00m \u001b[38;5;21;01mpyPLUTO\u001b[39;00m\u001b[38;5;21;01m.\u001b[39;00m\u001b[38;5;21;01mImage\u001b[39;00m \u001b[38;5;28;01mas\u001b[39;00m \u001b[38;5;21;01mimg\u001b[39;00m\n",
      "\u001b[0;31mModuleNotFoundError\u001b[0m: No module named 'pyPLUTO'"
     ]
    }
   ],
   "source": [
    "# Determine fill factor of initial conditions\n",
    "# of PLUTO simulations\n",
    "# Author: Roberto Alfano\n",
    "\n",
    "######################## imports ########################\n",
    "import os\n",
    "import sys\n",
    "import matplotlib as mpl\n",
    "from matplotlib import colors\n",
    "from matplotlib import pyplot as plt\n",
    "import pyPLUTO as pypl\n",
    "import pyPLUTO.pload as pp\n",
    "import pyPLUTO.Image as img\n",
    "import pandas as pd\n",
    "import contextlib\n",
    "from tqdm import tqdm\n",
    "import numpy as np\n",
    "import argparse\n",
    "\n",
    "######################## constants, fixed variables, unit measures ########################\n",
    "\n",
    "mu = 1.2889425\t\t#mean molecular weight\t\t\t\n",
    "ti = 0\t\t\t\t#initial time\n",
    "ud = 1.67262171e-24\t\t#unit density (g)\n",
    "ul = 3.0856775807e18\t\t#unit length (cm)\n",
    "uv = 1.e8\t\t\t#unit velocity (cm/s)\n",
    "up = (uv**2)*ud\t\t\t#unit pressure (dyn/cm^2)\n",
    "umag = uv*np.sqrt(4*np.pi*ud)\t#unit magnetic field (G)\n",
    "utyrs = (ul/uv)*3.17098e-8\t#unit time (yrs)\n",
    "kb = 1.3806505e-16\t\t#Boltzmann constant in cgs\n",
    "mp = 1.67262171e-24\t\t#Mass of the proton in cgs\n",
    "\n",
    "filenum = 0\n",
    "################################################\n",
    "#dirpath = os.getcwd()+'/../../init/15M1F/'\n",
    "dirpath = os.getcwd()+'/'\n",
    "################################################\n",
    "\n",
    "x0 = 1.5\n",
    "y0 = -3.0\n",
    "z0 = 0.0"
   ]
  },
  {
   "cell_type": "code",
   "execution_count": 2,
   "id": "3d9126f4-8d7a-4373-84a5-ded0b1dffa25",
   "metadata": {},
   "outputs": [
    {
     "name": "stdout",
     "output_type": "stream",
     "text": [
      "Reading multiple variable files : /home/roberto/Desktop/pres/ver_12/rho.0000.dbl\n",
      "Reading multiple variable files : /home/roberto/Desktop/pres/ver_12/tr4.0000.dbl\n"
     ]
    }
   ],
   "source": [
    "r = np.fromfile(\"r.bin\", dtype=np.float32).reshape((512, 512, 512))\n",
    "D = pp.pload(filenum, w_dir=dirpath, datatype='dbl')\n",
    "iii = np.where((D.x2>-3.) | (r.T < 5.))\n",
    "del r"
   ]
  },
  {
   "cell_type": "code",
   "execution_count": 3,
   "id": "baa04f74-fd0e-4a67-8f87-4453bdb42588",
   "metadata": {},
   "outputs": [],
   "source": [
    "mask = np.ones(D.tr4.shape,dtype=bool)\n",
    "mask[iii]=0.\n",
    "del iii"
   ]
  },
  {
   "cell_type": "code",
   "execution_count": 4,
   "id": "3fe757be-865b-471d-ab89-a5f93a4447d6",
   "metadata": {},
   "outputs": [
    {
     "name": "stdout",
     "output_type": "stream",
     "text": [
      "0.22094636274762544\n"
     ]
    }
   ],
   "source": [
    "ii = np.where(D.tr4<1.)\n",
    "mask2 = np.ones(D.tr4.shape,dtype=bool)\n",
    "mask2[ii]=0.\n",
    "fill = np.sum(mask2)/np.sum(mask)\n",
    "print(fill)"
   ]
  }
 ],
 "metadata": {
  "kernelspec": {
   "display_name": "Python 3 (ipykernel)",
   "language": "python",
   "name": "python3"
  },
  "language_info": {
   "codemirror_mode": {
    "name": "ipython",
    "version": 3
   },
   "file_extension": ".py",
   "mimetype": "text/x-python",
   "name": "python",
   "nbconvert_exporter": "python",
   "pygments_lexer": "ipython3",
   "version": "3.12.3"
  }
 },
 "nbformat": 4,
 "nbformat_minor": 5
}
